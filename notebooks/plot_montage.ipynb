{
 "cells": [
  {
   "cell_type": "code",
   "execution_count": 1,
   "id": "a2caf86a-f1b4-4253-b0b0-322e21c2c147",
   "metadata": {},
   "outputs": [
    {
     "name": "stdout",
     "output_type": "stream",
     "text": [
      "/home/sebas/Documents/chris/master/2_year_1sem/internship/Analysis-of-EEG-during-mental-arithmetic-tasks/notebooks\n"
     ]
    }
   ],
   "source": [
    "import os\n",
    "print(os.getcwd())\n",
    "os.chdir('../src_code')\n",
    "from utils.plot_functions import correlation_connectivity_graphs"
   ]
  },
  {
   "cell_type": "code",
   "execution_count": 2,
   "id": "403b0b64-da6a-4240-a912-07f5c95dbd71",
   "metadata": {},
   "outputs": [
    {
     "name": "stdout",
     "output_type": "stream",
     "text": [
      "Band: alpha - Class: 0\n"
     ]
    }
   ],
   "source": [
    "# error due to Gamma band not being computed yet, need a bit more on Orfeo\n",
    "# check plots in src_code/results_correlation/_connectivity_graphs\n",
    "correlation_connectivity_graphs(\"results_correlation\",\"../eeg_data/Subject00_1.edf\", \"cq\", type=\"zscore\")"
   ]
  },
  {
   "cell_type": "code",
   "execution_count": null,
   "id": "94fe4bc9-5ad0-47f2-be49-c00d348ac566",
   "metadata": {},
   "outputs": [],
   "source": []
  }
 ],
 "metadata": {
  "kernelspec": {
   "display_name": "Python 3 (ipykernel)",
   "language": "python",
   "name": "python3"
  },
  "language_info": {
   "codemirror_mode": {
    "name": "ipython",
    "version": 3
   },
   "file_extension": ".py",
   "mimetype": "text/x-python",
   "name": "python",
   "nbconvert_exporter": "python",
   "pygments_lexer": "ipython3",
   "version": "3.11.9"
  }
 },
 "nbformat": 4,
 "nbformat_minor": 5
}
